{
 "cells": [
  {
   "cell_type": "code",
   "execution_count": null,
   "id": "19bb2fb1-ca1c-45df-b024-aea9aee4023f",
   "metadata": {},
   "outputs": [],
   "source": [
    "# There'll be 27 possible actions stemming from each node. That'll be very slow probably. Instead ascend to a certain altitude vertically from \n",
    "# a start location on the map. Feed the altitude into the 2d planner. Generate a plan using 1. Voronoi graph 2. A Numpy grid with culled waypoints \n",
    "# 3. A probablistic roadmap. Once I'm near the target's x,y location on the map, I can generate a 3d voxel map. I can use that 3d voxel map, combined with \n",
    "# A star and waypoint culling, to land the drone on a rooftop, for example. "
   ]
  }
 ],
 "metadata": {
  "kernelspec": {
   "display_name": "Python 3 (ipykernel)",
   "language": "python",
   "name": "python3"
  },
  "language_info": {
   "codemirror_mode": {
    "name": "ipython",
    "version": 3
   },
   "file_extension": ".py",
   "mimetype": "text/x-python",
   "name": "python",
   "nbconvert_exporter": "python",
   "pygments_lexer": "ipython3",
   "version": "3.9.13"
  }
 },
 "nbformat": 4,
 "nbformat_minor": 5
}
