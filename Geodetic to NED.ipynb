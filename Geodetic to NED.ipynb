{
 "cells": [
  {
   "cell_type": "markdown",
   "id": "afd3b14c-d118-4093-a208-f6f1cb1cb9cb",
   "metadata": {},
   "source": [
    "# Geodetic Frame,ECEF Frame, and NED Frame"
   ]
  },
  {
   "cell_type": "markdown",
   "id": "951a0b93-739e-4746-975b-2a277c17b530",
   "metadata": {},
   "source": [
    "It's hard to compute distances using lat and lon. So it's best we use another frame. Convert to a local ECEF. Build an ECEF frame around your drone take-off point. Z is height. XY is lateral distance. XY is tangent to surface of Earth. X usually points north. Y usually points east. Z points down. First define a gobal home for NED origin. Then convert an NED translation from NED origin into Geodetic (lat, long, alt). \n",
    "\n",
    "1. Given global position, global home, return local position. \n",
    "\n",
    "2. Given local position, global home, return global position. \n",
    "\n",
    "Local position therefore means NED relative to origin. Global position means lat, long, alt. "
   ]
  },
  {
   "cell_type": "code",
   "execution_count": 2,
   "id": "7c5c5f15-1424-4aa8-a278-628c75d8e362",
   "metadata": {},
   "outputs": [
    {
     "name": "stdout",
     "output_type": "stream",
     "text": [
      "Requirement already satisfied: utm in c:\\users\\ronen\\anaconda3\\lib\\site-packages (0.7.0)\n"
     ]
    }
   ],
   "source": [
    "import sys\n",
    "!{sys.executable} -m pip install utm"
   ]
  },
  {
   "cell_type": "markdown",
   "id": "a5db7132-9e4a-4040-bb98-2421c15111a4",
   "metadata": {},
   "source": [
    "Learn to use utm.from_latlon\n",
    "-> Converts lat lon to easting, northing within a zone number, letter.\n",
    "Learn to use utm.to_latlon"
   ]
  },
  {
   "cell_type": "code",
   "execution_count": 8,
   "id": "4553dd84-29dc-4776-b11f-9996dead2afa",
   "metadata": {},
   "outputs": [
    {
     "name": "stdout",
     "output_type": "stream",
     "text": [
      "166021.4431793313 0.0 31 N\n",
      "1.008118449665103e-07 1.2752752050796116e-10\n"
     ]
    }
   ],
   "source": [
    "import utm\n",
    "import numpy\n",
    "(easting, northing, zone_number, zone_letter) = utm.from_latlon(0,0)\n",
    "print(easting, northing, zone_number, zone_letter)\n",
    "(latitude, longitude) = utm.to_latlon(easting, northing, zone_number, zone_letter)\n",
    "print(latitude,longitude)"
   ]
  },
  {
   "cell_type": "markdown",
   "id": "5d47b5aa-dfbe-43a7-b4fd-932eeb3e4307",
   "metadata": {},
   "source": [
    "Implement global_to_local() and local_to_global()\n",
    "From global geodetic to UTM and vv.\n"
   ]
  },
  {
   "cell_type": "code",
   "execution_count": 31,
   "id": "4ce5d3e4-c559-4c24-843c-a2098df65906",
   "metadata": {},
   "outputs": [],
   "source": [
    "import utm\n",
    "import numpy as np\n",
    "\n",
    "def global_to_local(global_position, global_home):\n",
    "    \"\"\"\n",
    "    Inputs: global_position: numpy array [longitude, latitude, altitude]; global_home: numpy array: [longitude, latitude, \n",
    "        altitude]\n",
    "    Returns: local_position numpy array [northing, easting, altitude] of global_position\n",
    "        relative to global_home [longitude, latitude, altitude]; Essentially, returns a\n",
    "        numpy array describing the NED delta from global_home.\n",
    "    \"\"\"\n",
    "    # Get easting and northing of global home first\n",
    "    lonh, lath, alth = global_home[0], global_home[1], global_home[2]\n",
    "    (easting_h, northing_h, zone_number_h, zone_letter_h) = utm.from_latlon(lath, lonh)\n",
    "    \n",
    "    # Get easting and northing from global position next\n",
    "    lon, lat, alt = global_position[0], global_position[1], global_position[2]\n",
    "    (easting, northing, zone_number, zone_letter) = utm.from_latlon(lat, lon)\n",
    "    \n",
    "    # After that, create a local_position numpy array from its NED coordinates\n",
    "    local_position = np.array([northing - northing_h, easting - easting_h, -(alt - alth)])\n",
    "    \n",
    "    # Finally, return them.\n",
    "    return local_position\n",
    "\n",
    "def local_to_global(local_position, global_home):\n",
    "    \"\"\"\n",
    "    Inputs: local_position: numpy array [northing, easting, down]; global_home: numpy array [longitude, latitude, altitude]\n",
    "    Returns: global_position: numpy array [longitude, latitude, altitude]. Essentially, returns a numpy array holding a new\n",
    "        geodetic location given a home geodetic location and an NED delta. \n",
    "    \"\"\"\n",
    "    # First, get global_home's easting, northing, zone_number, and grid_letter.\n",
    "    lon_h, lat_h, alt_h = global_home[0], global_home[1], global_home[2]\n",
    "    (easting_h, northing_h, zone_number_h, zone_letter_h) = utm.from_latlon(lat_h, lon_h)\n",
    "    \n",
    "    # After that, compute the new NED location by adding local_position to home's NED coordinates.\n",
    "    northing, easting, alt = local_position[0], local_position[1], local_position[2] \n",
    "    \n",
    "    # Convert the new NED location to the geodetic frame next. \n",
    "    (latitude, longitude) = utm.to_latlon(easting + easting_h, northing + northing_h, zone_number_h, zone_letter_h)\n",
    "    altitude = -(alt - alt_h)\n",
    "    global_position = np.array([longitude, latitude, altitude])\n",
    "    \n",
    "    # Finally, return the new geodetic location.\n",
    "    return global_position\n"
   ]
  },
  {
   "cell_type": "code",
   "execution_count": 34,
   "id": "0b2ed394-3b59-48de-b3c9-25ceb451a7ed",
   "metadata": {},
   "outputs": [
    {
     "name": "stdout",
     "output_type": "stream",
     "text": [
      "[-764.96 2571.59  -10.  ]\n"
     ]
    }
   ],
   "source": [
    "np.set_printoptions(precision=2)\n",
    "\n",
    "geodetic_current_coordinates = [-122.079465, 37.393037, 30]\n",
    "geodetic_home_coordinates = [-122.108432, 37.400154, 20]\n",
    "\n",
    "local_coordinates_NED = global_to_local(geodetic_current_coordinates, geodetic_home_coordinates)\n",
    "\n",
    "print(local_coordinates_NED)\n",
    "# Should print [ -764.96  2571.59   -10.  ]"
   ]
  },
  {
   "cell_type": "code",
   "execution_count": 35,
   "id": "9b551485-a6af-48bf-9591-7e5d775ebbb1",
   "metadata": {},
   "outputs": [
    {
     "name": "stdout",
     "output_type": "stream",
     "text": [
      "[-122.106982   37.40037    50.      ]\n"
     ]
    }
   ],
   "source": [
    "np.set_printoptions(precision=6)\n",
    "NED_coordinates =[25.21, 128.07, -30.]\n",
    "\n",
    "# convert back to global coordinates\n",
    "geodetic_current_coordinates = local_to_global(NED_coordinates, geodetic_home_coordinates)\n",
    "\n",
    "print(geodetic_current_coordinates)\n",
    "# Should print [-122.106982   37.40037    50.      ]"
   ]
  }
 ],
 "metadata": {
  "kernelspec": {
   "display_name": "Python 3 (ipykernel)",
   "language": "python",
   "name": "python3"
  },
  "language_info": {
   "codemirror_mode": {
    "name": "ipython",
    "version": 3
   },
   "file_extension": ".py",
   "mimetype": "text/x-python",
   "name": "python",
   "nbconvert_exporter": "python",
   "pygments_lexer": "ipython3",
   "version": "3.9.13"
  }
 },
 "nbformat": 4,
 "nbformat_minor": 5
}
